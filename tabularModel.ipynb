{
 "cells": [
  {
   "cell_type": "code",
   "execution_count": 2,
   "id": "6e0f4b00-171d-4834-8e73-10b59ea59793",
   "metadata": {},
   "outputs": [],
   "source": [
    "import tensorflow as tf\n",
    "from tensorflow import keras\n",
    "from tensorflow.keras import layers\n",
    "import pandas as pd\n",
    "import os"
   ]
  },
  {
   "cell_type": "code",
   "execution_count": 7,
   "id": "9b7d9c51-c839-4ef6-aeef-80b5a41da8a8",
   "metadata": {},
   "outputs": [
    {
     "name": "stdout",
     "output_type": "stream",
     "text": [
      "[Errno 2] No such file or directory: '.. PythonProjects/MSDS 498/Mushroom Project/pet_pawpularity'\n",
      "/Users/marcdeheeger/PythonProjects/MSDS 498/Mushroom Project/Master\n"
     ]
    }
   ],
   "source": [
    "cd .. PythonProjects/MSDS 498/Mushroom Project/pet_pawpularity"
   ]
  },
  {
   "cell_type": "code",
   "execution_count": null,
   "id": "6ff11b4c-68e0-4d21-baee-6c6175a14bca",
   "metadata": {},
   "outputs": [],
   "source": []
  }
 ],
 "metadata": {
  "kernelspec": {
   "display_name": "Python 3.10 (tensorflow)",
   "language": "python",
   "name": "tensorflow"
  },
  "language_info": {
   "codemirror_mode": {
    "name": "ipython",
    "version": 3
   },
   "file_extension": ".py",
   "mimetype": "text/x-python",
   "name": "python",
   "nbconvert_exporter": "python",
   "pygments_lexer": "ipython3",
   "version": "3.10.9"
  }
 },
 "nbformat": 4,
 "nbformat_minor": 5
}
