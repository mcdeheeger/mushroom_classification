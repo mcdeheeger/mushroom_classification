{
 "cells": [
  {
   "cell_type": "code",
   "execution_count": 42,
   "id": "1d340800-1216-422c-9711-bb37a11f2bb0",
   "metadata": {
    "collapsed": true,
    "jupyter": {
     "outputs_hidden": true
    },
    "tags": []
   },
   "outputs": [
    {
     "name": "stdout",
     "output_type": "stream",
     "text": [
      "Model: \"model_15\"\n",
      "__________________________________________________________________________________________________\n",
      " Layer (type)                   Output Shape         Param #     Connected to                     \n",
      "==================================================================================================\n",
      " input_31 (InputLayer)          [(None, 64, 64, 1)]  0           []                               \n",
      "                                                                                                  \n",
      " input_32 (InputLayer)          [(None, 32, 32, 3)]  0           []                               \n",
      "                                                                                                  \n",
      " conv2d_60 (Conv2D)             (None, 61, 61, 32)   544         ['input_31[0][0]']               \n",
      "                                                                                                  \n",
      " conv2d_62 (Conv2D)             (None, 29, 29, 32)   1568        ['input_32[0][0]']               \n",
      "                                                                                                  \n",
      " max_pooling2d_60 (MaxPooling2D  (None, 30, 30, 32)  0           ['conv2d_60[0][0]']              \n",
      " )                                                                                                \n",
      "                                                                                                  \n",
      " max_pooling2d_62 (MaxPooling2D  (None, 14, 14, 32)  0           ['conv2d_62[0][0]']              \n",
      " )                                                                                                \n",
      "                                                                                                  \n",
      " conv2d_61 (Conv2D)             (None, 27, 27, 16)   8208        ['max_pooling2d_60[0][0]']       \n",
      "                                                                                                  \n",
      " conv2d_63 (Conv2D)             (None, 11, 11, 16)   8208        ['max_pooling2d_62[0][0]']       \n",
      "                                                                                                  \n",
      " max_pooling2d_61 (MaxPooling2D  (None, 13, 13, 16)  0           ['conv2d_61[0][0]']              \n",
      " )                                                                                                \n",
      "                                                                                                  \n",
      " max_pooling2d_63 (MaxPooling2D  (None, 5, 5, 16)    0           ['conv2d_63[0][0]']              \n",
      " )                                                                                                \n",
      "                                                                                                  \n",
      " flatten_30 (Flatten)           (None, 2704)         0           ['max_pooling2d_61[0][0]']       \n",
      "                                                                                                  \n",
      " flatten_31 (Flatten)           (None, 400)          0           ['max_pooling2d_63[0][0]']       \n",
      "                                                                                                  \n",
      " concatenate_15 (Concatenate)   (None, 3104)         0           ['flatten_30[0][0]',             \n",
      "                                                                  'flatten_31[0][0]']             \n",
      "                                                                                                  \n",
      " dense_49 (Dense)               (None, 10)           31050       ['concatenate_15[0][0]']         \n",
      "                                                                                                  \n",
      " dense_50 (Dense)               (None, 10)           110         ['dense_49[0][0]']               \n",
      "                                                                                                  \n",
      " dense_51 (Dense)               (None, 1)            11          ['dense_50[0][0]']               \n",
      "                                                                                                  \n",
      "==================================================================================================\n",
      "Total params: 49,699\n",
      "Trainable params: 49,699\n",
      "Non-trainable params: 0\n",
      "__________________________________________________________________________________________________\n",
      "None\n",
      "You must install pydot (`pip install pydot`) and install graphviz (see instructions at https://graphviz.gitlab.io/download/) for plot_model to work.\n"
     ]
    }
   ],
   "source": [
    "# Multiple Inputs\n",
    "from keras.utils import plot_model\n",
    "from keras.models import Model\n",
    "from keras.layers import Input\n",
    "from keras.layers import Dense\n",
    "from keras.layers import Flatten\n",
    "from keras.layers.convolutional import Conv2D\n",
    "from keras.layers.pooling import MaxPooling2D\n",
    "from keras.layers import concatenate\n",
    "# first input model\n",
    "visible1 = Input(shape=(64,64,1))\n",
    "conv11 = Conv2D(32, kernel_size=4, activation='relu')(visible1)\n",
    "pool11 = MaxPooling2D(pool_size=(2, 2))(conv11)\n",
    "conv12 = Conv2D(16, kernel_size=4, activation='relu')(pool11)\n",
    "pool12 = MaxPooling2D(pool_size=(2, 2))(conv12)\n",
    "flat1 = Flatten()(pool12)\n",
    "# second input model\n",
    "visible2 = Input(shape=(32,32,3))\n",
    "conv21 = Conv2D(32, kernel_size=4, activation='relu')(visible2)\n",
    "pool21 = MaxPooling2D(pool_size=(2, 2))(conv21)\n",
    "conv22 = Conv2D(16, kernel_size=4, activation='relu')(pool21)\n",
    "pool22 = MaxPooling2D(pool_size=(2, 2))(conv22)\n",
    "flat2 = Flatten()(pool22)\n",
    "# merge input models\n",
    "merge = concatenate([flat1, flat2])\n",
    "# interpretation model\n",
    "hidden1 = Dense(10, activation='relu')(merge)\n",
    "hidden2 = Dense(10, activation='relu')(hidden1)\n",
    "output = Dense(1, activation='sigmoid')(hidden2)\n",
    "model = Model(inputs=[visible1, visible2], outputs=output)\n",
    "# summarize layers\n",
    "print(model.summary())\n",
    "# plot graph\n",
    "plot_model(model, to_file='multiple_inputs.png')"
   ]
  },
  {
   "cell_type": "code",
   "execution_count": null,
   "id": "def47ab7-6479-468d-8993-b312aa35a535",
   "metadata": {},
   "outputs": [],
   "source": []
  }
 ],
 "metadata": {
  "kernelspec": {
   "display_name": "Python 3.10 (tensorflow)",
   "language": "python",
   "name": "tensorflow"
  },
  "language_info": {
   "codemirror_mode": {
    "name": "ipython",
    "version": 3
   },
   "file_extension": ".py",
   "mimetype": "text/x-python",
   "name": "python",
   "nbconvert_exporter": "python",
   "pygments_lexer": "ipython3",
   "version": "3.10.9"
  }
 },
 "nbformat": 4,
 "nbformat_minor": 5
}
